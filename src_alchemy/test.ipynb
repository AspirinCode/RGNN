{
 "cells": [
  {
   "cell_type": "code",
   "execution_count": 1,
   "metadata": {},
   "outputs": [],
   "source": [
    "import sys\n",
    "import warnings\n",
    "import torch\n",
    "import torch_geometric.transforms as T\n",
    "from utils import Complete\n",
    "from dataset_no_rdkit import TencentAlchemyDataset\n",
    "from trainer import Trainer\n",
    "from model import RGNN"
   ]
  },
  {
   "cell_type": "code",
   "execution_count": 7,
   "metadata": {},
   "outputs": [
    {
     "name": "stdout",
     "output_type": "stream",
     "text": [
      "Load Dataset...\n",
      "Split the dataset...\n"
     ]
    }
   ],
   "source": [
    "warnings.filterwarnings(\"ignore\")\n",
    "task = 2\n",
    "option = {\n",
    "    'train_epoch': 2,\n",
    "    'train_batch': 2,\n",
    "    'task': task,  # [0~11]\n",
    "    'lr': 0.001,\n",
    "    'lr_scheduler_patience': 3,\n",
    "    'parallel': False,\n",
    "    'cuda_devices': [0, 1, 2, 3],  # works when parallel=True\n",
    "    'early_stop_patience': 10,  # -1 for no early stop\n",
    "}\n",
    "\n",
    "\n",
    "class SpecifyTarget(object):\n",
    "    def __call__(self, data):\n",
    "        data.y = data.y[0, option['task']].view(-1)\n",
    "        return data\n",
    "\n",
    "\n",
    "print('Load Dataset...')\n",
    "transform = T.Compose([SpecifyTarget(), Complete(), T.Distance(norm=True)])\n",
    "path = '../alchemy_dataset'\n",
    "dataset = TencentAlchemyDataset(root=path, transform=transform).shuffle()\n",
    "\n",
    "print('Split the dataset...')\n",
    "one_tenth = len(dataset) // 10000\n",
    "test_dataset = dataset[: one_tenth]\n",
    "valid_dataset = dataset[one_tenth: one_tenth * 2]\n",
    "train_dataset = dataset[one_tenth * 2: one_tenth * 3]"
   ]
  },
  {
   "cell_type": "code",
   "execution_count": 2,
   "metadata": {},
   "outputs": [
    {
     "name": "stdout",
     "output_type": "stream",
     "text": [
      "Load Dataset...\n",
      "Split the dataset...\n"
     ]
    },
    {
     "data": {
      "text/plain": [
       "tensor([[ 0.6107,  0.7344, -0.2219,  0.2685, -0.1669,  0.2685, -0.0887,  0.2685,\n",
       "          0.2685, -0.3893, -0.2727, -0.0342]])"
      ]
     },
     "execution_count": 2,
     "metadata": {},
     "output_type": "execute_result"
    }
   ],
   "source": [
    "print('Load Dataset...')\n",
    "transform = T.Compose([Complete(), T.Distance(norm=True)])\n",
    "path = '../alchemy_dataset'\n",
    "dataset = TencentAlchemyDataset(root=path, transform=transform).shuffle()\n",
    "\n",
    "print('Split the dataset...')\n",
    "one_tenth = len(dataset) // 10000\n",
    "test_dataset = dataset[: one_tenth]\n",
    "valid_dataset = dataset[one_tenth: one_tenth * 2]\n",
    "train_dataset = dataset[one_tenth * 2: one_tenth * 3]\n",
    "train_dataset[0].y"
   ]
  },
  {
   "cell_type": "code",
   "execution_count": null,
   "metadata": {},
   "outputs": [],
   "source": []
  },
  {
   "cell_type": "code",
   "execution_count": null,
   "metadata": {},
   "outputs": [],
   "source": []
  },
  {
   "cell_type": "code",
   "execution_count": null,
   "metadata": {},
   "outputs": [],
   "source": []
  },
  {
   "cell_type": "code",
   "execution_count": 9,
   "metadata": {},
   "outputs": [
    {
     "name": "stdout",
     "output_type": "stream",
     "text": [
      "Training init...\n",
      "\ttrain_epoch:2\n",
      "\ttrain_batch:2\n",
      "\ttask:2\n",
      "\tlr:0.001\n",
      "\tlr_scheduler_patience:3\n",
      "\tparallel:False\n",
      "\tcuda_devices:[0, 1, 2, 3]\n",
      "\tearly_stop_patience:10\n",
      "save id: dhga\n",
      "train set num:9 valid set num:9 test set num: 9\n",
      "Total Parameters:2865729\n"
     ]
    }
   ],
   "source": [
    "print('Training init...')\n",
    "model = RGNN()\n",
    "trainer = Trainer(option, model, \\\n",
    "                  train_dataset, valid_dataset, test_dataset)"
   ]
  },
  {
   "cell_type": "code",
   "execution_count": 10,
   "metadata": {},
   "outputs": [
    {
     "name": "stdout",
     "output_type": "stream",
     "text": [
      "Training start...\n"
     ]
    },
    {
     "name": "stderr",
     "output_type": "stream",
     "text": [
      "  0%|                                                                                            | 0/2 [00:00<?, ?it/s]"
     ]
    },
    {
     "name": "stdout",
     "output_type": "stream",
     "text": [
      "\tbatch 0 training loss: 0.34023 Time elapsed 0.00 hrs (0.1 mins)\n",
      "Epoch:0 trn_loss:1.31765 val_loss:0.89525 Time elapsed 0.00 hrs (0.2 mins)\n",
      "Model saved at epoch 0\n"
     ]
    },
    {
     "name": "stderr",
     "output_type": "stream",
     "text": [
      " 50%|██████████████████████████████████████████                                          | 1/2 [00:12<00:12, 12.44s/it]"
     ]
    },
    {
     "name": "stdout",
     "output_type": "stream",
     "text": [
      "\tbatch 0 training loss: 0.57287 Time elapsed 0.00 hrs (0.3 mins)\n",
      "Epoch:1 trn_loss:1.27549 val_loss:0.85358 Time elapsed 0.01 hrs (0.4 mins)\n",
      "Model saved at epoch 1\n"
     ]
    },
    {
     "name": "stderr",
     "output_type": "stream",
     "text": [
      "100%|████████████████████████████████████████████████████████████████████████████████████| 2/2 [00:22<00:00, 11.20s/it]\n"
     ]
    },
    {
     "name": "stdout",
     "output_type": "stream",
     "text": [
      "Model saved at epoch 1\n"
     ]
    }
   ],
   "source": [
    "trainer.train()"
   ]
  },
  {
   "cell_type": "code",
   "execution_count": 11,
   "metadata": {},
   "outputs": [
    {
     "name": "stdout",
     "output_type": "stream",
     "text": [
      "The best ckpt is D:\\Jupyter\\RGNN\\src_v7.4_alchemy\\ckpt\\ckpts_task2_dhga/task2_1_1.27549_0.85358.ckpt\n",
      "Ckpt loading: D:\\Jupyter\\RGNN\\src_v7.4_alchemy\\ckpt\\ckpts_task2_dhga/task2_1_1.27549_0.85358.ckpt\n"
     ]
    }
   ],
   "source": [
    "trainer.load_best_ckpt()"
   ]
  },
  {
   "cell_type": "code",
   "execution_count": 12,
   "metadata": {},
   "outputs": [
    {
     "name": "stdout",
     "output_type": "stream",
     "text": [
      "Test loss: 0.89417\n"
     ]
    },
    {
     "data": {
      "text/plain": [
       "0.8941701054573059"
      ]
     },
     "execution_count": 12,
     "metadata": {},
     "output_type": "execute_result"
    }
   ],
   "source": [
    "trainer.valid_iterations(mode='test')"
   ]
  },
  {
   "cell_type": "code",
   "execution_count": null,
   "metadata": {},
   "outputs": [],
   "source": []
  },
  {
   "cell_type": "code",
   "execution_count": null,
   "metadata": {},
   "outputs": [],
   "source": []
  }
 ],
 "metadata": {
  "kernelspec": {
   "display_name": "Python 3",
   "language": "python",
   "name": "python3"
  },
  "language_info": {
   "codemirror_mode": {
    "name": "ipython",
    "version": 3
   },
   "file_extension": ".py",
   "mimetype": "text/x-python",
   "name": "python",
   "nbconvert_exporter": "python",
   "pygments_lexer": "ipython3",
   "version": "3.7.4"
  }
 },
 "nbformat": 4,
 "nbformat_minor": 4
}
