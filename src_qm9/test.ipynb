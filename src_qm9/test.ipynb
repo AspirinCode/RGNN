{
 "cells": [
  {
   "cell_type": "code",
   "execution_count": 1,
   "metadata": {},
   "outputs": [],
   "source": [
    "import sys\n",
    "import warnings\n",
    "import torch\n",
    "import torch_geometric.transforms as T\n",
    "from utils import Complete\n",
    "from dataset_no_rdkit import QM9Dataset\n",
    "from trainer import Trainer\n",
    "from model import RGNN\n"
   ]
  },
  {
   "cell_type": "code",
   "execution_count": 2,
   "metadata": {},
   "outputs": [
    {
     "name": "stdout",
     "output_type": "stream",
     "text": [
      "Load Dataset...\n",
      "Split the dataset...\n"
     ]
    }
   ],
   "source": [
    "warnings.filterwarnings(\"ignore\")\n",
    "task = 2\n",
    "option = {\n",
    "    'train_epoch': 2,\n",
    "    'train_batch': 2,\n",
    "    'task': task,  # [0~11]\n",
    "    'lr': 0.001,\n",
    "    'lr_scheduler_patience': 3,\n",
    "    'parallel': False,\n",
    "    'cuda_devices': [0, 1, 2, 3],  # works when parallel=True\n",
    "    'early_stop_patience': 10,  # -1 for no early stop\n",
    "}\n",
    "\n",
    "\n",
    "class SpecifyTarget(object):\n",
    "    def __call__(self, data):\n",
    "        data.y = data.y[option['task']].view(-1)\n",
    "        return data\n",
    "\n",
    "\n",
    "print('Load Dataset...')\n",
    "transform = T.Compose([SpecifyTarget(), Complete(), T.Distance(norm=True)])\n",
    "path = '../QM9_dataset_moleculenet'\n",
    "dataset = QM9Dataset(root=path, transform=transform).shuffle()\n",
    "\n",
    "print('Split the dataset...')\n",
    "one_tenth = len(dataset) // 10000\n",
    "test_dataset = dataset[: one_tenth]\n",
    "valid_dataset = dataset[one_tenth: one_tenth * 2]\n",
    "train_dataset = dataset[one_tenth * 2: one_tenth * 3]"
   ]
  },
  {
   "cell_type": "code",
   "execution_count": 3,
   "metadata": {},
   "outputs": [
    {
     "name": "stdout",
     "output_type": "stream",
     "text": [
      "Training init...\n",
      "\ttrain_epoch:2\n",
      "\ttrain_batch:2\n",
      "\ttask:2\n",
      "\tlr:0.001\n",
      "\tlr_scheduler_patience:3\n",
      "\tparallel:False\n",
      "\tcuda_devices:[0, 1, 2, 3]\n",
      "\tearly_stop_patience:10\n",
      "save id: 06b1\n",
      "train set num:13 valid set num:13 test set num: 13\n",
      "Total Parameters:2865729\n"
     ]
    }
   ],
   "source": [
    "print('Training init...')\n",
    "model = RGNN()\n",
    "trainer = Trainer(option, model, \\\n",
    "                  train_dataset, valid_dataset, test_dataset)"
   ]
  },
  {
   "cell_type": "code",
   "execution_count": 4,
   "metadata": {},
   "outputs": [
    {
     "name": "stdout",
     "output_type": "stream",
     "text": [
      "Training start...\n"
     ]
    },
    {
     "name": "stderr",
     "output_type": "stream",
     "text": [
      "  0%|                                                                                            | 0/2 [00:00<?, ?it/s]"
     ]
    },
    {
     "name": "stdout",
     "output_type": "stream",
     "text": [
      "\tbatch 0 training loss: 0.50139 Time elapsed 0.00 hrs (0.0 mins)\n",
      "Epoch:0 trn_loss:0.18064 val_loss:0.03549 Time elapsed 0.00 hrs (0.1 mins)\n",
      "Model saved at epoch 0\n"
     ]
    },
    {
     "name": "stderr",
     "output_type": "stream",
     "text": [
      " 50%|██████████████████████████████████████████                                          | 1/2 [00:08<00:08,  8.32s/it]"
     ]
    },
    {
     "name": "stdout",
     "output_type": "stream",
     "text": [
      "\tbatch 0 training loss: 0.25100 Time elapsed 0.00 hrs (0.2 mins)\n",
      "Epoch:1 trn_loss:0.09517 val_loss:0.17754 Time elapsed 0.00 hrs (0.3 mins)\n"
     ]
    },
    {
     "name": "stderr",
     "output_type": "stream",
     "text": [
      "100%|████████████████████████████████████████████████████████████████████████████████████| 2/2 [00:16<00:00,  8.17s/it]\n"
     ]
    },
    {
     "name": "stdout",
     "output_type": "stream",
     "text": [
      "Model saved at epoch 1\n"
     ]
    }
   ],
   "source": [
    "trainer.train()"
   ]
  },
  {
   "cell_type": "code",
   "execution_count": 5,
   "metadata": {},
   "outputs": [
    {
     "name": "stdout",
     "output_type": "stream",
     "text": [
      "The best ckpt is D:\\Jupyter\\RGNN\\src_v7.3_1e-4lr\\ckpt\\ckpts_task2_06b1/task2_0_0.18064_0.03549.ckpt\n",
      "Ckpt loading: D:\\Jupyter\\RGNN\\src_v7.3_1e-4lr\\ckpt\\ckpts_task2_06b1/task2_0_0.18064_0.03549.ckpt\n"
     ]
    }
   ],
   "source": [
    "trainer.load_best_ckpt()"
   ]
  },
  {
   "cell_type": "code",
   "execution_count": 6,
   "metadata": {},
   "outputs": [
    {
     "name": "stdout",
     "output_type": "stream",
     "text": [
      "Test loss: 0.03016\n"
     ]
    },
    {
     "data": {
      "text/plain": [
       "0.03015950508415699"
      ]
     },
     "execution_count": 6,
     "metadata": {},
     "output_type": "execute_result"
    }
   ],
   "source": [
    "trainer.valid_iterations(mode='test')"
   ]
  },
  {
   "cell_type": "code",
   "execution_count": null,
   "metadata": {},
   "outputs": [],
   "source": []
  },
  {
   "cell_type": "code",
   "execution_count": null,
   "metadata": {},
   "outputs": [],
   "source": []
  }
 ],
 "metadata": {
  "kernelspec": {
   "display_name": "Python 3",
   "language": "python",
   "name": "python3"
  },
  "language_info": {
   "codemirror_mode": {
    "name": "ipython",
    "version": 3
   },
   "file_extension": ".py",
   "mimetype": "text/x-python",
   "name": "python",
   "nbconvert_exporter": "python",
   "pygments_lexer": "ipython3",
   "version": "3.7.4"
  }
 },
 "nbformat": 4,
 "nbformat_minor": 4
}
